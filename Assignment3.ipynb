{
 "cells": [
  {
   "cell_type": "markdown",
   "metadata": {},
   "source": [
    "# Answer 1"
   ]
  },
  {
   "cell_type": "code",
   "execution_count": 13,
   "metadata": {},
   "outputs": [
    {
     "name": "stdout",
     "output_type": "stream",
     "text": [
      "0.02666666666666667\n"
     ]
    }
   ],
   "source": [
    "pA=0.30\n",
    "pB=0.16\n",
    "pAifB=0.05\n",
    "pBifA=(pAifB*pB)/pA\n",
    "print(pBifA)"
   ]
  },
  {
   "cell_type": "markdown",
   "metadata": {},
   "source": [
    "# Answer 2"
   ]
  },
  {
   "cell_type": "code",
   "execution_count": 8,
   "metadata": {},
   "outputs": [
    {
     "name": "stdout",
     "output_type": "stream",
     "text": [
      "0.45999999999999996\n"
     ]
    }
   ],
   "source": [
    "pH1=0.5 ##probability of selecting bag H1 from 2 bags\n",
    "pH2=0.5 ##probability of selecting bag H2 from 2 bags\n",
    "##Let A be an event of occurence of black ball from both the bags\n",
    "##p(H1/A)=p(A/H1)p(H1)/p(A/H1)p(H1)+p(A/H2)p(H2)\n",
    "pAdH1=0.6 ##pAdH1=p(A/H1)\n",
    "pAdH2=0.42##pAdH2=p(A/H2)\n",
    "##Applying Bayes Theorem\n",
    "pH1dA=(pAdH1)*pH1/(pAdH1)*pH1+(pAdH2)*pH2\n",
    "print(pH1dA)\n"
   ]
  },
  {
   "cell_type": "markdown",
   "metadata": {},
   "source": [
    "# Answer 3"
   ]
  },
  {
   "cell_type": "code",
   "execution_count": 12,
   "metadata": {},
   "outputs": [
    {
     "name": "stdout",
     "output_type": "stream",
     "text": [
      "0.31\n"
     ]
    }
   ],
   "source": [
    "##E=Event when the man reports four in throwing a dice\n",
    "##S1=Four Occurs\n",
    "##S2==Four doesn't occur\n",
    "pS1=0.25\n",
    "pS2=0.75\n",
    "pEdS1=0.66 ##p(E/S1)=probability that man rerports four and four has occured\n",
    "           ##probability of speaking truth.\n",
    "pEdS2=0.33 ##p(E/S2)=probability that man reports four and it does'nt occur\n",
    "           ##probability of speaking lie\n",
    "##Applying Bayes Theorem\n",
    "pS1dE=(pEdS1)*(pS1)/(pEdS1)*(pS1)+(pEdS2)*(pS2) ##pS1dE=probability that four has occured and the person is truth.\n",
    "print(pS1dE)"
   ]
  },
  {
   "cell_type": "code",
   "execution_count": null,
   "metadata": {},
   "outputs": [],
   "source": []
  }
 ],
 "metadata": {
  "kernelspec": {
   "display_name": "Python 3",
   "language": "python",
   "name": "python3"
  },
  "language_info": {
   "codemirror_mode": {
    "name": "ipython",
    "version": 3
   },
   "file_extension": ".py",
   "mimetype": "text/x-python",
   "name": "python",
   "nbconvert_exporter": "python",
   "pygments_lexer": "ipython3",
   "version": "3.6.5"
  }
 },
 "nbformat": 4,
 "nbformat_minor": 2
}
